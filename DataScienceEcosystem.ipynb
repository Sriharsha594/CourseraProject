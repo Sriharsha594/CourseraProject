{
 "cells": [
  {
   "cell_type": "markdown",
   "id": "fa182007-87c0-4ce5-895b-fdcb249bb366",
   "metadata": {},
   "source": [
    "# Data Science Tools and Ecosystem"
   ]
  },
  {
   "cell_type": "markdown",
   "id": "110a0891-fef5-464f-ae39-38182604fc42",
   "metadata": {},
   "source": [
    "## In this notebook, Data Science Tools and Ecosystems are summarized."
   ]
  },
  {
   "cell_type": "markdown",
   "id": "6cbcbd4a-3f0a-4814-a837-ddb6782644e0",
   "metadata": {},
   "source": [
    "**Objectives:**\n",
    "- Python\n",
    "- R\n",
    "- Scala\n",
    "- Java\n",
    "- SQL\n",
    "  \n",
    "\n"
   ]
  },
  {
   "cell_type": "markdown",
   "id": "90fd45f9-b67b-4f2d-a477-ec27a2a306cd",
   "metadata": {
    "jp-MarkdownHeadingCollapsed": true
   },
   "source": [
    "Some of the popular languages that Data Scientists use are:\n",
    "\n",
    "1. Python\n",
    "2. SQL\n",
    "3. Java\n",
    "4. R\n",
    "5. Scala\n"
   ]
  },
  {
   "cell_type": "markdown",
   "id": "d05f5968-140d-4ca6-ab95-7ad99d8218fd",
   "metadata": {},
   "source": [
    "Some of the commonly used libraries used by Data Scientists include:\n",
    "\n",
    "1. Matplotlib\n",
    "2. plotly\n",
    "3. Scikit-learn\n",
    "4. NumPy\n",
    "5. Pandas"
   ]
  },
  {
   "cell_type": "markdown",
   "id": "dcb540a6-0d84-4056-b3ed-4a9d519c57df",
   "metadata": {},
   "source": [
    "|Data Science Tools|\n",
    "|-------------------|\n",
    "|Jupyter Notebook|\n",
    "|RStudio|\n",
    "|Apache spark|\n"
   ]
  },
  {
   "cell_type": "markdown",
   "id": "b2d9c4ed-fbc9-46cd-ad6f-8ebb954ae7b1",
   "metadata": {},
   "source": [
    "### Below are the few examples of evaluating arithmetic expressionsin Python."
   ]
  },
  {
   "cell_type": "code",
   "execution_count": 1,
   "id": "6cebfe13-146b-49c8-a5e6-4b16acd6332d",
   "metadata": {},
   "outputs": [
    {
     "data": {
      "text/plain": [
       "17"
      ]
     },
     "execution_count": 1,
     "metadata": {},
     "output_type": "execute_result"
    }
   ],
   "source": [
    "# This is a simple arithmetic expression to multiply then add integers.\n",
    "(3*4)+5"
   ]
  },
  {
   "cell_type": "code",
   "execution_count": 3,
   "id": "cc80a9fd-8f79-404b-8baa-5d8ad9a61ae9",
   "metadata": {},
   "outputs": [
    {
     "data": {
      "text/plain": [
       "3.3333333333333335"
      ]
     },
     "execution_count": 3,
     "metadata": {},
     "output_type": "execute_result"
    }
   ],
   "source": [
    "# This will convert 200 minutes to hours by dividing by 60\n",
    "y=200\n",
    "x= y/60\n",
    "x"
   ]
  },
  {
   "cell_type": "markdown",
   "id": "b24e73bc-f7ca-4235-a211-936d9d2df8bd",
   "metadata": {},
   "source": [
    "## Author\n",
    "M Sri Harsha"
   ]
  },
  {
   "cell_type": "code",
   "execution_count": null,
   "id": "e3d6cfee-0d1a-4716-b94b-78763daee9ff",
   "metadata": {},
   "outputs": [],
   "source": []
  }
 ],
 "metadata": {
  "kernelspec": {
   "display_name": "Python 3 (ipykernel)",
   "language": "python",
   "name": "python3"
  },
  "language_info": {
   "codemirror_mode": {
    "name": "ipython",
    "version": 3
   },
   "file_extension": ".py",
   "mimetype": "text/x-python",
   "name": "python",
   "nbconvert_exporter": "python",
   "pygments_lexer": "ipython3",
   "version": "3.11.9"
  }
 },
 "nbformat": 4,
 "nbformat_minor": 5
}
